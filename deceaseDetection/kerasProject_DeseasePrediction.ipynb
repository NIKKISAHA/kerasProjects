{
  "nbformat": 4,
  "nbformat_minor": 0,
  "metadata": {
    "colab": {
      "provenance": [],
      "gpuType": "T4",
      "authorship_tag": "ABX9TyN1nw+AaxErLNQxM7YelyDt",
      "include_colab_link": true
    },
    "kernelspec": {
      "name": "python3",
      "display_name": "Python 3"
    },
    "language_info": {
      "name": "python"
    },
    "accelerator": "GPU"
  },
  "cells": [
    {
      "cell_type": "markdown",
      "metadata": {
        "id": "view-in-github",
        "colab_type": "text"
      },
      "source": [
        "<a href=\"https://colab.research.google.com/github/NIKKISAHA/kerasProjects/blob/main/deceaseDetection/kerasProject_DeseasePrediction.ipynb\" target=\"_parent\"><img src=\"https://colab.research.google.com/assets/colab-badge.svg\" alt=\"Open In Colab\"/></a>"
      ]
    },
    {
      "cell_type": "code",
      "source": [
        "import numpy as np\n",
        "from random import randint\n",
        "from sklearn.utils import shuffle\n",
        "from sklearn.preprocessing import MinMaxScaler"
      ],
      "metadata": {
        "id": "t9lwxLmCdWfO"
      },
      "execution_count": null,
      "outputs": []
    },
    {
      "cell_type": "code",
      "source": [
        "train_levels=[]\n",
        "train_samples=[]"
      ],
      "metadata": {
        "id": "gPHn19iheHsd"
      },
      "execution_count": null,
      "outputs": []
    },
    {
      "cell_type": "code",
      "source": [
        "for i in range(50):\n",
        "  # 5% young who have side effects\n",
        "  random_younger=randint(13,64)\n",
        "  train_samples.append(random_younger)\n",
        "  train_levels.append(1)\n",
        "\n",
        "  # 5% old who dont have side effects\n",
        "  random_older=randint(65,100)\n",
        "  train_samples.append(random_older)\n",
        "  train_levels.append(0)\n",
        "\n",
        "for i in range(1000):\n",
        "  # 95% young who dont have side effects\n",
        "  random_younger=randint(13,64)\n",
        "  train_samples.append(random_younger)\n",
        "  train_levels.append(0)\n",
        "\n",
        "  # 5% old who have side effects\n",
        "  random_older=randint(65,100)\n",
        "  train_samples.append(random_older)\n",
        "  train_levels.append(1)"
      ],
      "metadata": {
        "id": "DD2k8EW-eYcl"
      },
      "execution_count": null,
      "outputs": []
    },
    {
      "cell_type": "code",
      "source": [
        "# for i in train_samples:\n",
        "#   print(i)"
      ],
      "metadata": {
        "id": "ZuLXNrZ3fqRN"
      },
      "execution_count": null,
      "outputs": []
    },
    {
      "cell_type": "code",
      "source": [
        "train_levels=np.array(train_levels)\n",
        "train_samples=np.array(train_samples)\n",
        "train_samples,train_levels=shuffle(train_samples,train_levels)"
      ],
      "metadata": {
        "id": "3RIG4l5ZgbCg"
      },
      "execution_count": null,
      "outputs": []
    },
    {
      "cell_type": "code",
      "source": [
        "scaler=MinMaxScaler(feature_range=(0,1))\n",
        "sc_train_samples= scaler.fit_transform(train_samples.reshape(-1,1))\n",
        "# sc_train_samples= tuple(sc_train_samples)\n",
        "# train_levels=tuple(train_levels)"
      ],
      "metadata": {
        "id": "Cs0KG864g4Ja"
      },
      "execution_count": null,
      "outputs": []
    },
    {
      "cell_type": "code",
      "source": [
        "# for i in sc_train_samples:\n",
        "#   print(i)"
      ],
      "metadata": {
        "id": "6SQdj_qchXdo"
      },
      "execution_count": null,
      "outputs": []
    },
    {
      "cell_type": "code",
      "execution_count": null,
      "metadata": {
        "id": "X_FHFD9PgSgZ"
      },
      "outputs": [],
      "source": [
        "import tensorflow as tf\n",
        "from tensorflow import keras\n",
        "# keras=tf.compat.v1.keras\n",
        "from tensorflow.keras.models import Sequential\n",
        "from tensorflow.keras.layers import Activation,Dense\n",
        "from tensorflow.keras.optimizers import Adam\n",
        "from tensorflow.keras.metrics import categorical_crossentropy"
      ]
    },
    {
      "cell_type": "code",
      "source": [
        "from keras.api._v2.keras import activations\n",
        "model=Sequential([\n",
        "    Dense(units=16,input_shape=(1,),activation=\"relu\"),\n",
        "    Dense(units=32,activation=\"relu\"),\n",
        "    Dense(units=16,activation=\"softmax\"),\n",
        "])"
      ],
      "metadata": {
        "id": "dqgJvdwfhP_x"
      },
      "execution_count": null,
      "outputs": []
    },
    {
      "cell_type": "code",
      "source": [
        "model.summary()"
      ],
      "metadata": {
        "colab": {
          "base_uri": "https://localhost:8080/"
        },
        "id": "TdAU9g4RiA6y",
        "outputId": "50b57380-f3da-4d48-8b82-53e4e7be22e2"
      },
      "execution_count": null,
      "outputs": [
        {
          "output_type": "stream",
          "name": "stdout",
          "text": [
            "Model: \"sequential\"\n",
            "_________________________________________________________________\n",
            " Layer (type)                Output Shape              Param #   \n",
            "=================================================================\n",
            " dense (Dense)               (None, 16)                32        \n",
            "                                                                 \n",
            " dense_1 (Dense)             (None, 32)                544       \n",
            "                                                                 \n",
            " dense_2 (Dense)             (None, 16)                528       \n",
            "                                                                 \n",
            "=================================================================\n",
            "Total params: 1104 (4.31 KB)\n",
            "Trainable params: 1104 (4.31 KB)\n",
            "Non-trainable params: 0 (0.00 Byte)\n",
            "_________________________________________________________________\n"
          ]
        }
      ]
    },
    {
      "cell_type": "code",
      "source": [
        "model.compile(optimizer=Adam(learning_rate=0.0001),loss='sparse_categorical_crossentropy',metrics=['accuracy'])"
      ],
      "metadata": {
        "id": "gA7uWsKZiRBb"
      },
      "execution_count": null,
      "outputs": []
    },
    {
      "cell_type": "code",
      "source": [
        "model.fit(x=sc_train_samples, y=train_levels, validation_split=0.1, batch_size=15, epochs=30, shuffle=True, verbose=2)"
      ],
      "metadata": {
        "colab": {
          "base_uri": "https://localhost:8080/"
        },
        "id": "6XXf_7fHjE8s",
        "outputId": "3ca9a9e3-a10a-4c8c-dbb2-58f44761e018"
      },
      "execution_count": null,
      "outputs": [
        {
          "output_type": "stream",
          "name": "stdout",
          "text": [
            "Epoch 1/30\n",
            "126/126 - 1s - loss: 0.2727 - accuracy: 0.9349 - val_loss: 0.2261 - val_accuracy: 0.9571 - 685ms/epoch - 5ms/step\n",
            "Epoch 2/30\n",
            "126/126 - 0s - loss: 0.2724 - accuracy: 0.9328 - val_loss: 0.2262 - val_accuracy: 0.9571 - 380ms/epoch - 3ms/step\n",
            "Epoch 3/30\n",
            "126/126 - 0s - loss: 0.2721 - accuracy: 0.9370 - val_loss: 0.2257 - val_accuracy: 0.9571 - 387ms/epoch - 3ms/step\n",
            "Epoch 4/30\n",
            "126/126 - 0s - loss: 0.2718 - accuracy: 0.9328 - val_loss: 0.2254 - val_accuracy: 0.9571 - 360ms/epoch - 3ms/step\n",
            "Epoch 5/30\n",
            "126/126 - 0s - loss: 0.2717 - accuracy: 0.9328 - val_loss: 0.2252 - val_accuracy: 0.9571 - 347ms/epoch - 3ms/step\n",
            "Epoch 6/30\n",
            "126/126 - 0s - loss: 0.2713 - accuracy: 0.9328 - val_loss: 0.2249 - val_accuracy: 0.9571 - 364ms/epoch - 3ms/step\n",
            "Epoch 7/30\n",
            "126/126 - 0s - loss: 0.2711 - accuracy: 0.9365 - val_loss: 0.2246 - val_accuracy: 0.9571 - 338ms/epoch - 3ms/step\n",
            "Epoch 8/30\n",
            "126/126 - 0s - loss: 0.2709 - accuracy: 0.9323 - val_loss: 0.2244 - val_accuracy: 0.9571 - 358ms/epoch - 3ms/step\n",
            "Epoch 9/30\n",
            "126/126 - 0s - loss: 0.2708 - accuracy: 0.9333 - val_loss: 0.2244 - val_accuracy: 0.9524 - 354ms/epoch - 3ms/step\n",
            "Epoch 10/30\n",
            "126/126 - 0s - loss: 0.2703 - accuracy: 0.9402 - val_loss: 0.2238 - val_accuracy: 0.9571 - 374ms/epoch - 3ms/step\n",
            "Epoch 11/30\n",
            "126/126 - 0s - loss: 0.2704 - accuracy: 0.9344 - val_loss: 0.2235 - val_accuracy: 0.9571 - 401ms/epoch - 3ms/step\n",
            "Epoch 12/30\n",
            "126/126 - 0s - loss: 0.2700 - accuracy: 0.9339 - val_loss: 0.2236 - val_accuracy: 0.9571 - 345ms/epoch - 3ms/step\n",
            "Epoch 13/30\n",
            "126/126 - 0s - loss: 0.2697 - accuracy: 0.9328 - val_loss: 0.2236 - val_accuracy: 0.9524 - 346ms/epoch - 3ms/step\n",
            "Epoch 14/30\n",
            "126/126 - 0s - loss: 0.2697 - accuracy: 0.9376 - val_loss: 0.2229 - val_accuracy: 0.9571 - 390ms/epoch - 3ms/step\n",
            "Epoch 15/30\n",
            "126/126 - 0s - loss: 0.2695 - accuracy: 0.9376 - val_loss: 0.2229 - val_accuracy: 0.9571 - 370ms/epoch - 3ms/step\n",
            "Epoch 16/30\n",
            "126/126 - 0s - loss: 0.2692 - accuracy: 0.9381 - val_loss: 0.2225 - val_accuracy: 0.9571 - 371ms/epoch - 3ms/step\n",
            "Epoch 17/30\n",
            "126/126 - 0s - loss: 0.2692 - accuracy: 0.9339 - val_loss: 0.2227 - val_accuracy: 0.9524 - 422ms/epoch - 3ms/step\n",
            "Epoch 18/30\n",
            "126/126 - 1s - loss: 0.2689 - accuracy: 0.9402 - val_loss: 0.2224 - val_accuracy: 0.9524 - 522ms/epoch - 4ms/step\n",
            "Epoch 19/30\n",
            "126/126 - 1s - loss: 0.2688 - accuracy: 0.9370 - val_loss: 0.2221 - val_accuracy: 0.9524 - 521ms/epoch - 4ms/step\n",
            "Epoch 20/30\n",
            "126/126 - 1s - loss: 0.2686 - accuracy: 0.9376 - val_loss: 0.2220 - val_accuracy: 0.9524 - 538ms/epoch - 4ms/step\n",
            "Epoch 21/30\n",
            "126/126 - 0s - loss: 0.2686 - accuracy: 0.9349 - val_loss: 0.2218 - val_accuracy: 0.9571 - 465ms/epoch - 4ms/step\n",
            "Epoch 22/30\n",
            "126/126 - 0s - loss: 0.2681 - accuracy: 0.9349 - val_loss: 0.2220 - val_accuracy: 0.9524 - 383ms/epoch - 3ms/step\n",
            "Epoch 23/30\n",
            "126/126 - 0s - loss: 0.2680 - accuracy: 0.9386 - val_loss: 0.2213 - val_accuracy: 0.9571 - 348ms/epoch - 3ms/step\n",
            "Epoch 24/30\n",
            "126/126 - 0s - loss: 0.2679 - accuracy: 0.9360 - val_loss: 0.2220 - val_accuracy: 0.9524 - 375ms/epoch - 3ms/step\n",
            "Epoch 25/30\n",
            "126/126 - 0s - loss: 0.2676 - accuracy: 0.9376 - val_loss: 0.2214 - val_accuracy: 0.9524 - 331ms/epoch - 3ms/step\n",
            "Epoch 26/30\n",
            "126/126 - 0s - loss: 0.2674 - accuracy: 0.9365 - val_loss: 0.2217 - val_accuracy: 0.9524 - 387ms/epoch - 3ms/step\n",
            "Epoch 27/30\n",
            "126/126 - 0s - loss: 0.2673 - accuracy: 0.9386 - val_loss: 0.2208 - val_accuracy: 0.9571 - 371ms/epoch - 3ms/step\n",
            "Epoch 28/30\n",
            "126/126 - 0s - loss: 0.2670 - accuracy: 0.9381 - val_loss: 0.2208 - val_accuracy: 0.9524 - 376ms/epoch - 3ms/step\n",
            "Epoch 29/30\n",
            "126/126 - 0s - loss: 0.2670 - accuracy: 0.9354 - val_loss: 0.2208 - val_accuracy: 0.9524 - 383ms/epoch - 3ms/step\n",
            "Epoch 30/30\n",
            "126/126 - 0s - loss: 0.2668 - accuracy: 0.9407 - val_loss: 0.2207 - val_accuracy: 0.9524 - 374ms/epoch - 3ms/step\n"
          ]
        },
        {
          "output_type": "execute_result",
          "data": {
            "text/plain": [
              "<keras.src.callbacks.History at 0x7a6d94bca2c0>"
            ]
          },
          "metadata": {},
          "execution_count": 15
        }
      ]
    },
    {
      "cell_type": "code",
      "source": [
        "test_levels=[]\n",
        "test_samples=[]"
      ],
      "metadata": {
        "id": "cCepHcM3m7NG"
      },
      "execution_count": null,
      "outputs": []
    },
    {
      "cell_type": "code",
      "source": [
        "for i in range(10):\n",
        "  # 5% young who have side effects\n",
        "  random_younger=randint(13,64)\n",
        "  test_samples.append(random_younger)\n",
        "  test_levels.append(1)\n",
        "\n",
        "  # 5% old who dont have side effects\n",
        "  random_older=randint(65,100)\n",
        "  test_samples.append(random_older)\n",
        "  test_levels.append(0)\n",
        "\n",
        "for i in range(200):\n",
        "  # 95% young who dont have side effects\n",
        "  random_younger=randint(13,64)\n",
        "  test_samples.append(random_younger)\n",
        "  test_levels.append(0)\n",
        "\n",
        "  # 5% old who have side effects\n",
        "  random_older=randint(65,100)\n",
        "  test_samples.append(random_older)\n",
        "  test_levels.append(1)\n"
      ],
      "metadata": {
        "id": "RUaOHq4snEeP"
      },
      "execution_count": null,
      "outputs": []
    },
    {
      "cell_type": "code",
      "source": [
        "test_levels=np.array(test_levels)\n",
        "test_samples=np.array(test_samples)\n",
        "test_samples,train_levels=shuffle(test_samples,test_levels)"
      ],
      "metadata": {
        "id": "85_12K6tnd2B"
      },
      "execution_count": null,
      "outputs": []
    },
    {
      "cell_type": "code",
      "source": [
        "scaler=MinMaxScaler(feature_range=(0,1))\n",
        "sc_test_samples= scaler.fit_transform(test_samples.reshape(-1,1))"
      ],
      "metadata": {
        "id": "-mww2N6Rno-I"
      },
      "execution_count": null,
      "outputs": []
    },
    {
      "cell_type": "code",
      "source": [
        "predicrion = model.predict(x=sc_test_samples,batch_size=10,verbose=0)"
      ],
      "metadata": {
        "id": "8F3HmjLhnyWY"
      },
      "execution_count": null,
      "outputs": []
    },
    {
      "cell_type": "code",
      "source": [
        "# for i in predicrion:\n",
        "#   print(i)"
      ],
      "metadata": {
        "id": "4fipPXg3oqnl"
      },
      "execution_count": null,
      "outputs": []
    },
    {
      "cell_type": "code",
      "source": [
        "rounded=np.argmax(predicrion,axis=1)\n",
        "# for i in rounded:\n",
        "#   print(i)"
      ],
      "metadata": {
        "id": "MHrncLxvpIL6"
      },
      "execution_count": null,
      "outputs": []
    }
  ]
}