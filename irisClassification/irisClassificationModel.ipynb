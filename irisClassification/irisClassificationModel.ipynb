{
  "nbformat": 4,
  "nbformat_minor": 0,
  "metadata": {
    "colab": {
      "provenance": [],
      "mount_file_id": "1BB0nmz7HsTJ-gGgX9GXN2Op5hRBrUqAJ",
      "authorship_tag": "ABX9TyOR+I6ZPx3B324YPWyrFAiK",
      "include_colab_link": true
    },
    "kernelspec": {
      "name": "python3",
      "display_name": "Python 3"
    },
    "language_info": {
      "name": "python"
    }
  },
  "cells": [
    {
      "cell_type": "markdown",
      "metadata": {
        "id": "view-in-github",
        "colab_type": "text"
      },
      "source": [
        "<a href=\"https://colab.research.google.com/github/NIKKISAHA/kerasProjects/blob/main/irisClassification/irisClassificationModel.ipynb\" target=\"_parent\"><img src=\"https://colab.research.google.com/assets/colab-badge.svg\" alt=\"Open In Colab\"/></a>"
      ]
    },
    {
      "cell_type": "code",
      "execution_count": null,
      "metadata": {
        "colab": {
          "base_uri": "https://localhost:8080/",
          "height": 423
        },
        "id": "NSNEvgXGjOEn",
        "outputId": "e10c65f6-be24-4f7d-9cb8-dc71238f7279"
      },
      "outputs": [
        {
          "output_type": "execute_result",
          "data": {
            "text/plain": [
              "           catagory  sepal length  sepal width  petal length  petal width\n",
              "0       Iris-setosa           4.9          3.0           1.4          0.2\n",
              "1       Iris-setosa           4.7          3.2           1.3          0.2\n",
              "2       Iris-setosa           4.6          3.1           1.5          0.2\n",
              "3       Iris-setosa           5.0          3.6           1.4          0.2\n",
              "4       Iris-setosa           5.4          3.9           1.7          0.4\n",
              "..              ...           ...          ...           ...          ...\n",
              "144  Iris-virginica           6.7          3.0           5.2          2.3\n",
              "145  Iris-virginica           6.3          2.5           5.0          1.9\n",
              "146  Iris-virginica           6.5          3.0           5.2          2.0\n",
              "147  Iris-virginica           6.2          3.4           5.4          2.3\n",
              "148  Iris-virginica           5.9          3.0           5.1          1.8\n",
              "\n",
              "[149 rows x 5 columns]"
            ],
            "text/html": [
              "\n",
              "  <div id=\"df-c6798020-bba2-4852-91f4-fc697e64ab24\" class=\"colab-df-container\">\n",
              "    <div>\n",
              "<style scoped>\n",
              "    .dataframe tbody tr th:only-of-type {\n",
              "        vertical-align: middle;\n",
              "    }\n",
              "\n",
              "    .dataframe tbody tr th {\n",
              "        vertical-align: top;\n",
              "    }\n",
              "\n",
              "    .dataframe thead th {\n",
              "        text-align: right;\n",
              "    }\n",
              "</style>\n",
              "<table border=\"1\" class=\"dataframe\">\n",
              "  <thead>\n",
              "    <tr style=\"text-align: right;\">\n",
              "      <th></th>\n",
              "      <th>catagory</th>\n",
              "      <th>sepal length</th>\n",
              "      <th>sepal width</th>\n",
              "      <th>petal length</th>\n",
              "      <th>petal width</th>\n",
              "    </tr>\n",
              "  </thead>\n",
              "  <tbody>\n",
              "    <tr>\n",
              "      <th>0</th>\n",
              "      <td>Iris-setosa</td>\n",
              "      <td>4.9</td>\n",
              "      <td>3.0</td>\n",
              "      <td>1.4</td>\n",
              "      <td>0.2</td>\n",
              "    </tr>\n",
              "    <tr>\n",
              "      <th>1</th>\n",
              "      <td>Iris-setosa</td>\n",
              "      <td>4.7</td>\n",
              "      <td>3.2</td>\n",
              "      <td>1.3</td>\n",
              "      <td>0.2</td>\n",
              "    </tr>\n",
              "    <tr>\n",
              "      <th>2</th>\n",
              "      <td>Iris-setosa</td>\n",
              "      <td>4.6</td>\n",
              "      <td>3.1</td>\n",
              "      <td>1.5</td>\n",
              "      <td>0.2</td>\n",
              "    </tr>\n",
              "    <tr>\n",
              "      <th>3</th>\n",
              "      <td>Iris-setosa</td>\n",
              "      <td>5.0</td>\n",
              "      <td>3.6</td>\n",
              "      <td>1.4</td>\n",
              "      <td>0.2</td>\n",
              "    </tr>\n",
              "    <tr>\n",
              "      <th>4</th>\n",
              "      <td>Iris-setosa</td>\n",
              "      <td>5.4</td>\n",
              "      <td>3.9</td>\n",
              "      <td>1.7</td>\n",
              "      <td>0.4</td>\n",
              "    </tr>\n",
              "    <tr>\n",
              "      <th>...</th>\n",
              "      <td>...</td>\n",
              "      <td>...</td>\n",
              "      <td>...</td>\n",
              "      <td>...</td>\n",
              "      <td>...</td>\n",
              "    </tr>\n",
              "    <tr>\n",
              "      <th>144</th>\n",
              "      <td>Iris-virginica</td>\n",
              "      <td>6.7</td>\n",
              "      <td>3.0</td>\n",
              "      <td>5.2</td>\n",
              "      <td>2.3</td>\n",
              "    </tr>\n",
              "    <tr>\n",
              "      <th>145</th>\n",
              "      <td>Iris-virginica</td>\n",
              "      <td>6.3</td>\n",
              "      <td>2.5</td>\n",
              "      <td>5.0</td>\n",
              "      <td>1.9</td>\n",
              "    </tr>\n",
              "    <tr>\n",
              "      <th>146</th>\n",
              "      <td>Iris-virginica</td>\n",
              "      <td>6.5</td>\n",
              "      <td>3.0</td>\n",
              "      <td>5.2</td>\n",
              "      <td>2.0</td>\n",
              "    </tr>\n",
              "    <tr>\n",
              "      <th>147</th>\n",
              "      <td>Iris-virginica</td>\n",
              "      <td>6.2</td>\n",
              "      <td>3.4</td>\n",
              "      <td>5.4</td>\n",
              "      <td>2.3</td>\n",
              "    </tr>\n",
              "    <tr>\n",
              "      <th>148</th>\n",
              "      <td>Iris-virginica</td>\n",
              "      <td>5.9</td>\n",
              "      <td>3.0</td>\n",
              "      <td>5.1</td>\n",
              "      <td>1.8</td>\n",
              "    </tr>\n",
              "  </tbody>\n",
              "</table>\n",
              "<p>149 rows × 5 columns</p>\n",
              "</div>\n",
              "    <div class=\"colab-df-buttons\">\n",
              "\n",
              "  <div class=\"colab-df-container\">\n",
              "    <button class=\"colab-df-convert\" onclick=\"convertToInteractive('df-c6798020-bba2-4852-91f4-fc697e64ab24')\"\n",
              "            title=\"Convert this dataframe to an interactive table.\"\n",
              "            style=\"display:none;\">\n",
              "\n",
              "  <svg xmlns=\"http://www.w3.org/2000/svg\" height=\"24px\" viewBox=\"0 -960 960 960\">\n",
              "    <path d=\"M120-120v-720h720v720H120Zm60-500h600v-160H180v160Zm220 220h160v-160H400v160Zm0 220h160v-160H400v160ZM180-400h160v-160H180v160Zm440 0h160v-160H620v160ZM180-180h160v-160H180v160Zm440 0h160v-160H620v160Z\"/>\n",
              "  </svg>\n",
              "    </button>\n",
              "\n",
              "  <style>\n",
              "    .colab-df-container {\n",
              "      display:flex;\n",
              "      gap: 12px;\n",
              "    }\n",
              "\n",
              "    .colab-df-convert {\n",
              "      background-color: #E8F0FE;\n",
              "      border: none;\n",
              "      border-radius: 50%;\n",
              "      cursor: pointer;\n",
              "      display: none;\n",
              "      fill: #1967D2;\n",
              "      height: 32px;\n",
              "      padding: 0 0 0 0;\n",
              "      width: 32px;\n",
              "    }\n",
              "\n",
              "    .colab-df-convert:hover {\n",
              "      background-color: #E2EBFA;\n",
              "      box-shadow: 0px 1px 2px rgba(60, 64, 67, 0.3), 0px 1px 3px 1px rgba(60, 64, 67, 0.15);\n",
              "      fill: #174EA6;\n",
              "    }\n",
              "\n",
              "    .colab-df-buttons div {\n",
              "      margin-bottom: 4px;\n",
              "    }\n",
              "\n",
              "    [theme=dark] .colab-df-convert {\n",
              "      background-color: #3B4455;\n",
              "      fill: #D2E3FC;\n",
              "    }\n",
              "\n",
              "    [theme=dark] .colab-df-convert:hover {\n",
              "      background-color: #434B5C;\n",
              "      box-shadow: 0px 1px 3px 1px rgba(0, 0, 0, 0.15);\n",
              "      filter: drop-shadow(0px 1px 2px rgba(0, 0, 0, 0.3));\n",
              "      fill: #FFFFFF;\n",
              "    }\n",
              "  </style>\n",
              "\n",
              "    <script>\n",
              "      const buttonEl =\n",
              "        document.querySelector('#df-c6798020-bba2-4852-91f4-fc697e64ab24 button.colab-df-convert');\n",
              "      buttonEl.style.display =\n",
              "        google.colab.kernel.accessAllowed ? 'block' : 'none';\n",
              "\n",
              "      async function convertToInteractive(key) {\n",
              "        const element = document.querySelector('#df-c6798020-bba2-4852-91f4-fc697e64ab24');\n",
              "        const dataTable =\n",
              "          await google.colab.kernel.invokeFunction('convertToInteractive',\n",
              "                                                    [key], {});\n",
              "        if (!dataTable) return;\n",
              "\n",
              "        const docLinkHtml = 'Like what you see? Visit the ' +\n",
              "          '<a target=\"_blank\" href=https://colab.research.google.com/notebooks/data_table.ipynb>data table notebook</a>'\n",
              "          + ' to learn more about interactive tables.';\n",
              "        element.innerHTML = '';\n",
              "        dataTable['output_type'] = 'display_data';\n",
              "        await google.colab.output.renderOutput(dataTable, element);\n",
              "        const docLink = document.createElement('div');\n",
              "        docLink.innerHTML = docLinkHtml;\n",
              "        element.appendChild(docLink);\n",
              "      }\n",
              "    </script>\n",
              "  </div>\n",
              "\n",
              "\n",
              "<div id=\"df-7f38247a-0da9-4d09-a1ef-da2acb67ce17\">\n",
              "  <button class=\"colab-df-quickchart\" onclick=\"quickchart('df-7f38247a-0da9-4d09-a1ef-da2acb67ce17')\"\n",
              "            title=\"Suggest charts.\"\n",
              "            style=\"display:none;\">\n",
              "\n",
              "<svg xmlns=\"http://www.w3.org/2000/svg\" height=\"24px\"viewBox=\"0 0 24 24\"\n",
              "     width=\"24px\">\n",
              "    <g>\n",
              "        <path d=\"M19 3H5c-1.1 0-2 .9-2 2v14c0 1.1.9 2 2 2h14c1.1 0 2-.9 2-2V5c0-1.1-.9-2-2-2zM9 17H7v-7h2v7zm4 0h-2V7h2v10zm4 0h-2v-4h2v4z\"/>\n",
              "    </g>\n",
              "</svg>\n",
              "  </button>\n",
              "\n",
              "<style>\n",
              "  .colab-df-quickchart {\n",
              "      --bg-color: #E8F0FE;\n",
              "      --fill-color: #1967D2;\n",
              "      --hover-bg-color: #E2EBFA;\n",
              "      --hover-fill-color: #174EA6;\n",
              "      --disabled-fill-color: #AAA;\n",
              "      --disabled-bg-color: #DDD;\n",
              "  }\n",
              "\n",
              "  [theme=dark] .colab-df-quickchart {\n",
              "      --bg-color: #3B4455;\n",
              "      --fill-color: #D2E3FC;\n",
              "      --hover-bg-color: #434B5C;\n",
              "      --hover-fill-color: #FFFFFF;\n",
              "      --disabled-bg-color: #3B4455;\n",
              "      --disabled-fill-color: #666;\n",
              "  }\n",
              "\n",
              "  .colab-df-quickchart {\n",
              "    background-color: var(--bg-color);\n",
              "    border: none;\n",
              "    border-radius: 50%;\n",
              "    cursor: pointer;\n",
              "    display: none;\n",
              "    fill: var(--fill-color);\n",
              "    height: 32px;\n",
              "    padding: 0;\n",
              "    width: 32px;\n",
              "  }\n",
              "\n",
              "  .colab-df-quickchart:hover {\n",
              "    background-color: var(--hover-bg-color);\n",
              "    box-shadow: 0 1px 2px rgba(60, 64, 67, 0.3), 0 1px 3px 1px rgba(60, 64, 67, 0.15);\n",
              "    fill: var(--button-hover-fill-color);\n",
              "  }\n",
              "\n",
              "  .colab-df-quickchart-complete:disabled,\n",
              "  .colab-df-quickchart-complete:disabled:hover {\n",
              "    background-color: var(--disabled-bg-color);\n",
              "    fill: var(--disabled-fill-color);\n",
              "    box-shadow: none;\n",
              "  }\n",
              "\n",
              "  .colab-df-spinner {\n",
              "    border: 2px solid var(--fill-color);\n",
              "    border-color: transparent;\n",
              "    border-bottom-color: var(--fill-color);\n",
              "    animation:\n",
              "      spin 1s steps(1) infinite;\n",
              "  }\n",
              "\n",
              "  @keyframes spin {\n",
              "    0% {\n",
              "      border-color: transparent;\n",
              "      border-bottom-color: var(--fill-color);\n",
              "      border-left-color: var(--fill-color);\n",
              "    }\n",
              "    20% {\n",
              "      border-color: transparent;\n",
              "      border-left-color: var(--fill-color);\n",
              "      border-top-color: var(--fill-color);\n",
              "    }\n",
              "    30% {\n",
              "      border-color: transparent;\n",
              "      border-left-color: var(--fill-color);\n",
              "      border-top-color: var(--fill-color);\n",
              "      border-right-color: var(--fill-color);\n",
              "    }\n",
              "    40% {\n",
              "      border-color: transparent;\n",
              "      border-right-color: var(--fill-color);\n",
              "      border-top-color: var(--fill-color);\n",
              "    }\n",
              "    60% {\n",
              "      border-color: transparent;\n",
              "      border-right-color: var(--fill-color);\n",
              "    }\n",
              "    80% {\n",
              "      border-color: transparent;\n",
              "      border-right-color: var(--fill-color);\n",
              "      border-bottom-color: var(--fill-color);\n",
              "    }\n",
              "    90% {\n",
              "      border-color: transparent;\n",
              "      border-bottom-color: var(--fill-color);\n",
              "    }\n",
              "  }\n",
              "</style>\n",
              "\n",
              "  <script>\n",
              "    async function quickchart(key) {\n",
              "      const quickchartButtonEl =\n",
              "        document.querySelector('#' + key + ' button');\n",
              "      quickchartButtonEl.disabled = true;  // To prevent multiple clicks.\n",
              "      quickchartButtonEl.classList.add('colab-df-spinner');\n",
              "      try {\n",
              "        const charts = await google.colab.kernel.invokeFunction(\n",
              "            'suggestCharts', [key], {});\n",
              "      } catch (error) {\n",
              "        console.error('Error during call to suggestCharts:', error);\n",
              "      }\n",
              "      quickchartButtonEl.classList.remove('colab-df-spinner');\n",
              "      quickchartButtonEl.classList.add('colab-df-quickchart-complete');\n",
              "    }\n",
              "    (() => {\n",
              "      let quickchartButtonEl =\n",
              "        document.querySelector('#df-7f38247a-0da9-4d09-a1ef-da2acb67ce17 button');\n",
              "      quickchartButtonEl.style.display =\n",
              "        google.colab.kernel.accessAllowed ? 'block' : 'none';\n",
              "    })();\n",
              "  </script>\n",
              "</div>\n",
              "    </div>\n",
              "  </div>\n"
            ]
          },
          "metadata": {},
          "execution_count": 81
        }
      ],
      "source": [
        "#necess-libraries\n",
        "import pandas as pd\n",
        "import matplotlib.pyplot as plt\n",
        "import numpy as np\n",
        "\n",
        "#importing data\n",
        "data = pd.read_csv(\"/content/drive/MyDrive/iris.csv\")\n",
        "\n",
        "#two ways of changing atrribute name\n",
        "data[\"sepal length\"] = data[\"5.1\"]\n",
        "data[\"sepal width\"] = data[\"3.5\"]\n",
        "data[\"petal length\"] = data[\"1.4\"]\n",
        "data[\"petal width\"]=data[\"0.2\"]\n",
        "data=data.drop(columns=[\"5.1\",\"3.5\",\"1.4\",\"0.2\"])\n",
        "\n",
        "df=data\n",
        "df.rename(columns={\"Iris-setosa\":'catagory'},inplace=True)\n",
        "df"
      ]
    },
    {
      "cell_type": "code",
      "source": [
        "#viewing data\n",
        "df.head()\n",
        "df.shape\n",
        "df.info()"
      ],
      "metadata": {
        "colab": {
          "base_uri": "https://localhost:8080/"
        },
        "id": "43a594Pgj918",
        "outputId": "f7a168f9-f10f-4cfa-8780-6af58bac9d4d"
      },
      "execution_count": null,
      "outputs": [
        {
          "output_type": "stream",
          "name": "stdout",
          "text": [
            "<class 'pandas.core.frame.DataFrame'>\n",
            "RangeIndex: 149 entries, 0 to 148\n",
            "Data columns (total 5 columns):\n",
            " #   Column        Non-Null Count  Dtype  \n",
            "---  ------        --------------  -----  \n",
            " 0   catagory      149 non-null    object \n",
            " 1   sepal length  149 non-null    float64\n",
            " 2   sepal width   149 non-null    float64\n",
            " 3   petal length  149 non-null    float64\n",
            " 4   petal width   149 non-null    float64\n",
            "dtypes: float64(4), object(1)\n",
            "memory usage: 5.9+ KB\n"
          ]
        }
      ]
    },
    {
      "cell_type": "code",
      "source": [
        "#diving into x  and y\n",
        "x=df[[\"sepal length\",\"sepal width\",\"petal length\",\"petal width\"]]\n",
        "df['catagory'].replace({'Iris-setosa':0, 'Iris-versicolor':1, 'Iris-virginica':2},inplace=True)\n",
        "y=df[['catagory']]\n",
        "y\n",
        "y['catagory'].unique()\n",
        "y.value_counts()\n",
        "# Iris-setosa,Iris-versicolor,Iris-virginica"
      ],
      "metadata": {
        "colab": {
          "base_uri": "https://localhost:8080/"
        },
        "id": "XyPpIv83krR9",
        "outputId": "107df71b-9944-4082-9b01-337b60eceeff"
      },
      "execution_count": null,
      "outputs": [
        {
          "output_type": "execute_result",
          "data": {
            "text/plain": [
              "catagory\n",
              "1           50\n",
              "2           50\n",
              "0           49\n",
              "dtype: int64"
            ]
          },
          "metadata": {},
          "execution_count": 83
        }
      ]
    },
    {
      "cell_type": "code",
      "source": [
        "#vizualizing\n",
        "import seaborn as sns\n",
        "plt.figure(figsize=(8,6))\n",
        "sns.countplot(data=df,x='catagory')\n",
        "plt.xlabel='catagory'\n",
        "plt.ylabel='count'\n",
        "plt.show()"
      ],
      "metadata": {
        "colab": {
          "base_uri": "https://localhost:8080/",
          "height": 542
        },
        "id": "nQaRpNjLoeEz",
        "outputId": "7a7c09b5-dcbc-46c1-db3d-9e86ef023996"
      },
      "execution_count": null,
      "outputs": [
        {
          "output_type": "display_data",
          "data": {
            "text/plain": [
              "<Figure size 800x600 with 1 Axes>"
            ],
            "image/png": "[encoded data removed]"
          },
          "metadata": {}
        }
      ]
    },
    {
      "cell_type": "code",
      "source": [
        "# spliting into 4\n",
        "from sklearn.model_selection import train_test_split\n",
        "x_train,x_test,y_train,y_test=train_test_split(x,y,test_size=0.2,random_state=42)\n",
        "x_train.shape"
      ],
      "metadata": {
        "colab": {
          "base_uri": "https://localhost:8080/"
        },
        "id": "75eADhe4qK71",
        "outputId": "722cf41e-5148-4b3e-afdb-8134568ad2b8"
      },
      "execution_count": null,
      "outputs": [
        {
          "output_type": "execute_result",
          "data": {
            "text/plain": [
              "(119, 4)"
            ]
          },
          "metadata": {},
          "execution_count": 118
        }
      ]
    },
    {
      "cell_type": "code",
      "source": [
        "#scaling\n",
        "from sklearn.preprocessing import StandardScaler\n",
        "scale=StandardScaler()\n",
        "x_train_scaled=scale.fit_transform(x_train)\n",
        "x_test_scaled=scale.transform(x_test)\n",
        "\n",
        "x_test_scaled"
      ],
      "metadata": {
        "colab": {
          "base_uri": "https://localhost:8080/"
        },
        "id": "dwAnar8YKI7n",
        "outputId": "997273e4-0ca9-4e4b-ca9f-bab917135d74"
      },
      "execution_count": null,
      "outputs": [
        {
          "output_type": "execute_result",
          "data": {
            "text/plain": [
              "array([[ 0.71096698, -0.3117199 ,  0.31382661,  0.13887608],\n",
              "       [-0.86930015,  1.73645194, -1.29489689, -1.2047218 ],\n",
              "       [ 2.29123411, -0.99444384,  1.8076413 ,  1.48247397],\n",
              "       [-0.13994609, -0.99444384, -0.14580867, -0.26420328],\n",
              "       [ 1.07564401, -0.08414525,  0.71600749,  0.67631524],\n",
              "       [-0.74774114,  2.41917588, -1.29489689, -1.47344137],\n",
              "       [ 1.07564401,  0.1434294 ,  0.37128103,  0.27323587],\n",
              "       [ 1.31876203,  0.1434294 ,  0.7734619 ,  1.48247397],\n",
              "       [-0.2615051 , -1.22201849,  0.08400897, -0.12984349],\n",
              "       [ 0.22473094, -0.76686919,  0.7734619 ,  0.54195545],\n",
              "       [ 0.83252599,  0.37100405,  0.7734619 ,  1.0793946 ],\n",
              "       [-1.84177222, -0.08414525, -1.52471454, -1.47344137],\n",
              "       [-1.11241817,  0.1434294 , -1.29489689, -1.47344137],\n",
              "       [-0.50462312,  1.50887729, -1.29489689, -1.33908159],\n",
              "       [-0.50462312,  0.82615334, -1.17998807, -1.33908159],\n",
              "       [-1.11241817, -1.44959314, -0.2607175 , -0.26420328],\n",
              "       [ 0.71096698,  0.1434294 ,  1.00327955,  0.81067502],\n",
              "       [ 0.10317193,  0.37100405,  0.60109867,  0.81067502],\n",
              "       [ 0.58940797,  0.5985787 ,  0.54364426,  0.54195545],\n",
              "       [ 0.71096698, -0.53929454,  1.06073396,  1.34811418],\n",
              "       [-1.23397717,  0.1434294 , -1.23744248, -1.33908159],\n",
              "       [ 1.07564401,  0.5985787 ,  1.11818837,  1.21375439],\n",
              "       [-0.74774114,  1.05372799, -1.29489689, -1.33908159],\n",
              "       [ 0.71096698, -0.53929454,  1.06073396,  1.21375439],\n",
              "       [ 1.68343906, -0.08414525,  1.17564278,  0.54195545],\n",
              "       [ 1.07564401, -0.08414525,  0.83091631,  1.48247397],\n",
              "       [ 0.71096698, -0.76686919,  0.88837073,  0.94503481],\n",
              "       [ 1.56188005, -0.08414525,  1.23309719,  1.21375439],\n",
              "       [-0.86930015,  1.73645194, -1.23744248, -1.33908159],\n",
              "       [-0.50462312,  0.82615334, -1.29489689, -1.07036201]])"
            ]
          },
          "metadata": {},
          "execution_count": 119
        }
      ]
    },
    {
      "cell_type": "markdown",
      "source": [
        "***ML Starts here***"
      ],
      "metadata": {
        "id": "_VBNurLRMC7j"
      }
    },
    {
      "cell_type": "code",
      "source": [
        "import tensorflow as tf\n",
        "from tensorflow import keras\n",
        "from tensorflow.keras.layers import Dense"
      ],
      "metadata": {
        "id": "Z2wCrqvtrA6g"
      },
      "execution_count": null,
      "outputs": []
    },
    {
      "cell_type": "code",
      "source": [
        "model=keras.Sequential()\n",
        "model.add(Dense(10,input_dim=4,activation='relu'))\n",
        "model.add(Dense(7,activation='relu'))\n",
        "model.add(Dense(3,activation='softmax'))\n",
        "model.summary()"
      ],
      "metadata": {
        "colab": {
          "base_uri": "https://localhost:8080/"
        },
        "id": "uyez9NU6rFQL",
        "outputId": "a99fab99-0813-42cc-c38b-0309c8a164c2"
      },
      "execution_count": null,
      "outputs": [
        {
          "output_type": "stream",
          "name": "stdout",
          "text": [
            "Model: \"sequential_13\"\n",
            "_________________________________________________________________\n",
            " Layer (type)                Output Shape              Param #   \n",
            "=================================================================\n",
            " dense_39 (Dense)            (None, 10)                50        \n",
            "                                                                 \n",
            " dense_40 (Dense)            (None, 7)                 77        \n",
            "                                                                 \n",
            " dense_41 (Dense)            (None, 3)                 24        \n",
            "                                                                 \n",
            "=================================================================\n",
            "Total params: 151 (604.00 Byte)\n",
            "Trainable params: 151 (604.00 Byte)\n",
            "Non-trainable params: 0 (0.00 Byte)\n",
            "_________________________________________________________________\n"
          ]
        }
      ]
    },
    {
      "cell_type": "code",
      "source": [
        "model.compile(optimizer=\"adam\",loss=\"sparse_categorical_crossentropy\",metrics=[\"accuracy\"])"
      ],
      "metadata": {
        "id": "xKsYVR4VBiFe"
      },
      "execution_count": null,
      "outputs": []
    },
    {
      "cell_type": "code",
      "source": [
        "model.fit(x_train_scaled,y_train,validation_data=(x_test_scaled,y_test), epochs=40)"
      ],
      "metadata": {
        "colab": {
          "base_uri": "https://localhost:8080/"
        },
        "id": "mqzTlIskBodU",
        "outputId": "98357a05-6171-4b96-c34f-24f2073cbca1"
      },
      "execution_count": null,
      "outputs": [
        {
          "output_type": "stream",
          "name": "stdout",
          "text": [
            "Epoch 1/40\n",
            "4/4 [==============================] - 0s 75ms/step - loss: 0.6636 - accuracy: 0.7815 - val_loss: 0.6454 - val_accuracy: 0.8000\n",
            "Epoch 2/40\n",
            "4/4 [==============================] - 0s 35ms/step - loss: 0.6507 - accuracy: 0.7899 - val_loss: 0.6333 - val_accuracy: 0.8000\n",
            "Epoch 3/40\n",
            "4/4 [==============================] - 0s 50ms/step - loss: 0.6382 - accuracy: 0.8067 - val_loss: 0.6216 - val_accuracy: 0.8000\n",
            "Epoch 4/40\n",
            "4/4 [==============================] - 0s 27ms/step - loss: 0.6264 - accuracy: 0.8067 - val_loss: 0.6101 - val_accuracy: 0.8000\n",
            "Epoch 5/40\n",
            "4/4 [==============================] - 0s 42ms/step - loss: 0.6148 - accuracy: 0.8067 - val_loss: 0.5990 - val_accuracy: 0.8000\n",
            "Epoch 6/40\n",
            "4/4 [==============================] - 0s 34ms/step - loss: 0.6029 - accuracy: 0.8067 - val_loss: 0.5890 - val_accuracy: 0.8000\n",
            "Epoch 7/40\n",
            "4/4 [==============================] - 0s 35ms/step - loss: 0.5925 - accuracy: 0.8151 - val_loss: 0.5796 - val_accuracy: 0.8000\n",
            "Epoch 8/40\n",
            "4/4 [==============================] - 0s 47ms/step - loss: 0.5829 - accuracy: 0.8151 - val_loss: 0.5705 - val_accuracy: 0.8000\n",
            "Epoch 9/40\n",
            "4/4 [==============================] - 0s 45ms/step - loss: 0.5731 - accuracy: 0.8151 - val_loss: 0.5617 - val_accuracy: 0.8000\n",
            "Epoch 10/40\n",
            "4/4 [==============================] - 0s 37ms/step - loss: 0.5636 - accuracy: 0.8151 - val_loss: 0.5533 - val_accuracy: 0.8000\n",
            "Epoch 11/40\n",
            "4/4 [==============================] - 0s 45ms/step - loss: 0.5541 - accuracy: 0.8235 - val_loss: 0.5452 - val_accuracy: 0.8000\n",
            "Epoch 12/40\n",
            "4/4 [==============================] - 0s 44ms/step - loss: 0.5454 - accuracy: 0.8235 - val_loss: 0.5370 - val_accuracy: 0.8000\n",
            "Epoch 13/40\n",
            "4/4 [==============================] - 0s 40ms/step - loss: 0.5363 - accuracy: 0.8235 - val_loss: 0.5292 - val_accuracy: 0.8000\n",
            "Epoch 14/40\n",
            "4/4 [==============================] - 0s 16ms/step - loss: 0.5277 - accuracy: 0.8319 - val_loss: 0.5214 - val_accuracy: 0.8000\n",
            "Epoch 15/40\n",
            "4/4 [==============================] - 0s 16ms/step - loss: 0.5190 - accuracy: 0.8319 - val_loss: 0.5138 - val_accuracy: 0.8333\n",
            "Epoch 16/40\n",
            "4/4 [==============================] - 0s 21ms/step - loss: 0.5108 - accuracy: 0.8319 - val_loss: 0.5063 - val_accuracy: 0.8333\n",
            "Epoch 17/40\n",
            "4/4 [==============================] - 0s 16ms/step - loss: 0.5022 - accuracy: 0.8319 - val_loss: 0.4991 - val_accuracy: 0.8667\n",
            "Epoch 18/40\n",
            "4/4 [==============================] - 0s 23ms/step - loss: 0.4941 - accuracy: 0.8403 - val_loss: 0.4921 - val_accuracy: 0.8667\n",
            "Epoch 19/40\n",
            "4/4 [==============================] - 0s 21ms/step - loss: 0.4859 - accuracy: 0.8403 - val_loss: 0.4852 - val_accuracy: 0.8667\n",
            "Epoch 20/40\n",
            "4/4 [==============================] - 0s 14ms/step - loss: 0.4781 - accuracy: 0.8655 - val_loss: 0.4784 - val_accuracy: 0.8667\n",
            "Epoch 21/40\n",
            "4/4 [==============================] - 0s 15ms/step - loss: 0.4704 - accuracy: 0.8739 - val_loss: 0.4717 - val_accuracy: 0.8667\n",
            "Epoch 22/40\n",
            "4/4 [==============================] - 0s 15ms/step - loss: 0.4623 - accuracy: 0.8739 - val_loss: 0.4652 - val_accuracy: 0.8667\n",
            "Epoch 23/40\n",
            "4/4 [==============================] - 0s 15ms/step - loss: 0.4547 - accuracy: 0.8739 - val_loss: 0.4586 - val_accuracy: 0.8667\n",
            "Epoch 24/40\n",
            "4/4 [==============================] - 0s 23ms/step - loss: 0.4468 - accuracy: 0.8824 - val_loss: 0.4523 - val_accuracy: 0.8667\n",
            "Epoch 25/40\n",
            "4/4 [==============================] - 0s 23ms/step - loss: 0.4394 - accuracy: 0.8824 - val_loss: 0.4464 - val_accuracy: 0.8667\n",
            "Epoch 26/40\n",
            "4/4 [==============================] - 0s 23ms/step - loss: 0.4317 - accuracy: 0.8824 - val_loss: 0.4401 - val_accuracy: 0.8667\n",
            "Epoch 27/40\n",
            "4/4 [==============================] - 0s 14ms/step - loss: 0.4241 - accuracy: 0.8908 - val_loss: 0.4342 - val_accuracy: 0.8667\n",
            "Epoch 28/40\n",
            "4/4 [==============================] - 0s 24ms/step - loss: 0.4169 - accuracy: 0.8992 - val_loss: 0.4283 - val_accuracy: 0.8667\n",
            "Epoch 29/40\n",
            "4/4 [==============================] - 0s 22ms/step - loss: 0.4095 - accuracy: 0.9076 - val_loss: 0.4225 - val_accuracy: 0.8667\n",
            "Epoch 30/40\n",
            "4/4 [==============================] - 0s 16ms/step - loss: 0.4025 - accuracy: 0.9076 - val_loss: 0.4166 - val_accuracy: 0.8667\n",
            "Epoch 31/40\n",
            "4/4 [==============================] - 0s 21ms/step - loss: 0.3956 - accuracy: 0.9160 - val_loss: 0.4107 - val_accuracy: 0.8667\n",
            "Epoch 32/40\n",
            "4/4 [==============================] - 0s 11ms/step - loss: 0.3887 - accuracy: 0.9160 - val_loss: 0.4050 - val_accuracy: 0.8667\n",
            "Epoch 33/40\n",
            "4/4 [==============================] - 0s 11ms/step - loss: 0.3817 - accuracy: 0.9160 - val_loss: 0.3998 - val_accuracy: 0.8667\n",
            "Epoch 34/40\n",
            "4/4 [==============================] - 0s 10ms/step - loss: 0.3750 - accuracy: 0.9076 - val_loss: 0.3948 - val_accuracy: 0.8667\n",
            "Epoch 35/40\n",
            "4/4 [==============================] - 0s 12ms/step - loss: 0.3683 - accuracy: 0.9076 - val_loss: 0.3897 - val_accuracy: 0.8667\n",
            "Epoch 36/40\n",
            "4/4 [==============================] - 0s 11ms/step - loss: 0.3618 - accuracy: 0.9076 - val_loss: 0.3850 - val_accuracy: 0.8667\n",
            "Epoch 37/40\n",
            "4/4 [==============================] - 0s 11ms/step - loss: 0.3556 - accuracy: 0.9160 - val_loss: 0.3798 - val_accuracy: 0.8667\n",
            "Epoch 38/40\n",
            "4/4 [==============================] - 0s 11ms/step - loss: 0.3490 - accuracy: 0.9160 - val_loss: 0.3751 - val_accuracy: 0.8667\n",
            "Epoch 39/40\n",
            "4/4 [==============================] - 0s 11ms/step - loss: 0.3425 - accuracy: 0.9160 - val_loss: 0.3703 - val_accuracy: 0.8667\n",
            "Epoch 40/40\n",
            "4/4 [==============================] - 0s 10ms/step - loss: 0.3363 - accuracy: 0.9160 - val_loss: 0.3653 - val_accuracy: 0.8667\n"
          ]
        },
        {
          "output_type": "execute_result",
          "data": {
            "text/plain": [
              "<keras.src.callbacks.History at 0x7cbb77f923b0>"
            ]
          },
          "metadata": {},
          "execution_count": 124
        }
      ]
    },
    {
      "cell_type": "code",
      "source": [
        "test_loss,test_accuracy=model.evaluate(x_test_scaled,y_test)\n",
        "print(\"my\",test_loss,test_accuracy,)"
      ],
      "metadata": {
        "colab": {
          "base_uri": "https://localhost:8080/"
        },
        "id": "Z1rChLaLI4dF",
        "outputId": "b93ff142-6190-4eb8-ebae-75de98e6bb1a"
      },
      "execution_count": null,
      "outputs": [
        {
          "output_type": "stream",
          "name": "stdout",
          "text": [
            "1/1 [==============================] - 0s 39ms/step - loss: 0.3653 - accuracy: 0.8667\n",
            "my 0.3653324246406555 0.8666666746139526\n"
          ]
        }
      ]
    },
    {
      "cell_type": "code",
      "source": [
        "from sklearn.metrics import classification_report\n",
        "prediction = model.predict(x_test_scaled,verbose=0)\n",
        "\n",
        "rounded=np.argmax(prediction,axis=1)\n",
        "# for i in rounded:\n",
        "#   print(i)\n",
        "print(classification_report(y_test,rounded))"
      ],
      "metadata": {
        "colab": {
          "base_uri": "https://localhost:8080/"
        },
        "id": "s9_2IFTrLVOg",
        "outputId": "6db95442-6115-4ea8-ad50-1e96f51c2488"
      },
      "execution_count": null,
      "outputs": [
        {
          "output_type": "stream",
          "name": "stdout",
          "text": [
            "              precision    recall  f1-score   support\n",
            "\n",
            "           0       1.00      1.00      1.00        10\n",
            "           1       1.00      0.56      0.71         9\n",
            "           2       0.73      1.00      0.85        11\n",
            "\n",
            "    accuracy                           0.87        30\n",
            "   macro avg       0.91      0.85      0.85        30\n",
            "weighted avg       0.90      0.87      0.86        30\n",
            "\n"
          ]
        }
      ]
    }
  ]
}